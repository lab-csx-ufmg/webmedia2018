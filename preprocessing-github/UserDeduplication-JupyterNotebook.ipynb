{
 "cells": [
  {
   "cell_type": "markdown",
   "metadata": {},
   "source": [
    "## Deduplicação de usuários\n",
    "\n",
    "Deduplicar usuários de repositórios do Github com base em outras informações de perfil disponíveis no dataset."
   ]
  },
  {
   "cell_type": "code",
   "execution_count": 1,
   "metadata": {},
   "outputs": [],
   "source": [
    "import csv\n",
    "import pandas as pd"
   ]
  },
  {
   "cell_type": "markdown",
   "metadata": {},
   "source": [
    "### Funções utilitárias"
   ]
  },
  {
   "cell_type": "markdown",
   "metadata": {},
   "source": [
    "* **firstLastName**\n",
    "    * Extrai primeiro e último nome de um usuário a partir de uma string"
   ]
  },
  {
   "cell_type": "code",
   "execution_count": 2,
   "metadata": {},
   "outputs": [],
   "source": [
    "def firstLastName(name):\n",
    "    if name == '\\\\N':\n",
    "        return ''\n",
    "    else:\n",
    "        try:\n",
    "            splitName = name.strip().split(' ')\n",
    "            if len(splitName) > 1:\n",
    "                first_last_name = splitName[0] + ' ' + splitName[len(splitName)-1]\n",
    "            else:\n",
    "                first_last_name = name\n",
    "        except:\n",
    "            return ''\n",
    "        \n",
    "        return first_last_name"
   ]
  },
  {
   "cell_type": "markdown",
   "metadata": {},
   "source": [
    "* **extractFakeUsers**\n",
    "    * Dado um arquivo de usuários identifica usuários fake e acrescenta numa lista"
   ]
  },
  {
   "cell_type": "code",
   "execution_count": 3,
   "metadata": {},
   "outputs": [],
   "source": [
    "def extractFakeUsers():\n",
    "    df = pd.read_csv('data/users.csv', delimiter=',', header=None, names=['user_id', 'login', 'name', 'company', 'location', \n",
    "                                                                          'email', 'created_at', 'usr_type', 'fake', 'deleted'])\n",
    "    df['created_at'] = df['created_at'].map(lambda x: x[:10])\n",
    "    \n",
    "    # limpa campos com valor \\\\N\n",
    "    null_company = df.index[df['company'] == '\\\\N']\n",
    "    df['company'][null_company] = ''\n",
    "    \n",
    "    null_location = df.index[df['location'] == '\\\\N']\n",
    "    df['location'][null_location] = ''\n",
    "    \n",
    "    null_email = df.index[df['email'] == '\\\\N']\n",
    "    df['email'][null_email] = ''\n",
    "    \n",
    "    # usuário unkown\n",
    "    unknown_users = df.index[df['name'] == 'unknown']\n",
    "    df['name'][unknown_users] = ''\n",
    "    \n",
    "    # usuário no author\n",
    "    no_author_users = df.index[df['name'] == '(no author)']\n",
    "    df['name'][no_author_users] = ''\n",
    "    \n",
    "    # primeiro e último nomes\n",
    "    df['first_last_name'] = df['name'].map(firstLastName)\n",
    "    \n",
    "    # nomes vazios\n",
    "    null_name = df.index[df['name'] == '\\\\N']\n",
    "    df['name'][null_name] = ''\n",
    "    \n",
    "    # seleciona apenas usuários fake\n",
    "    df = df[df['fake'] == 1]\n",
    "    \n",
    "    return df"
   ]
  },
  {
   "cell_type": "code",
   "execution_count": 4,
   "metadata": {},
   "outputs": [],
   "source": [
    "def deduplicateUsersByEmail(df_fake_users):\n",
    "    # agrupamento de usuários por e-mail\n",
    "    \n",
    "    fakeUsersDict = {}\n",
    "    \n",
    "    for usr_id, email in zip(df_fake_users['user_id'].tolist(), df_fake_users['email'].tolist()):\n",
    "        # para cada usuário, geraremos um dict por e-mail e armazenaremos apenas o primeiro user_id encontrado (deduplicado)\n",
    "\n",
    "        if email in fakeUsersDict:\n",
    "            fakeUsersDict[email][1] = fakeUsersDict[email][1] + 1\n",
    "        else:\n",
    "            fakeUsersDict[email] = [usr_id, 1] # user_id, ocorrencias\n",
    "\n",
    "    return fakeUsersDict"
   ]
  },
  {
   "cell_type": "code",
   "execution_count": 5,
   "metadata": {},
   "outputs": [],
   "source": [
    "def deduplicateUsersByUsername(df_fake_users):\n",
    "    # agrupamento de usuários por username/login\n",
    "    \n",
    "    fakeUsersDict = {}\n",
    "    \n",
    "    for usr_id, username in zip(df_fake_users['user_id'].tolist(), df_fake_users['login'].tolist()):\n",
    "        # para cada usuário, geraremos um dict por username e armazenaremos apenas o primeiro user_id encontrado (deduplicado)\n",
    "\n",
    "        if username in fakeUsersDict:\n",
    "            fakeUsersDict[username][1] = fakeUsersDict[username][1] + 1\n",
    "        else:\n",
    "            fakeUsersDict[username] = [usr_id, 1] # user_id, ocorrencias\n",
    "\n",
    "    return fakeUsersDict"
   ]
  },
  {
   "cell_type": "code",
   "execution_count": 6,
   "metadata": {},
   "outputs": [],
   "source": [
    "def deduplicateUsersByFirstLastName(df_fake_users):\n",
    "    # agrupamento de usuários por nome de usuário (primeiro e último)\n",
    "\n",
    "    fakeUsersDict = {}\n",
    "    \n",
    "    for usr_id, first_last_name in zip(df_fake_users['user_id'].tolist(), df_fake_users['first_last_name'].tolist()):\n",
    "        # para cada usuário, geraremos um dict por primeiro e último nome e armazenaremos apenas o primeiro \n",
    "        # user_id encontrado (deduplicado)\n",
    "\n",
    "        if first_last_name in fakeUsersDict:\n",
    "            fakeUsersDict[first_last_name][1] = fakeUsersDict[first_last_name][1] + 1\n",
    "        else:\n",
    "            fakeUsersDict[first_last_name] = [usr_id, 1] # user_id, ocorrencias\n",
    "\n",
    "    return fakeUsersDict"
   ]
  },
  {
   "cell_type": "markdown",
   "metadata": {},
   "source": [
    "### Deduplicação da base de usuários"
   ]
  },
  {
   "cell_type": "code",
   "execution_count": 7,
   "metadata": {},
   "outputs": [
    {
     "name": "stderr",
     "output_type": "stream",
     "text": [
      "C:\\Users\\nater\\Anaconda3\\lib\\site-packages\\ipykernel_launcher.py:8: SettingWithCopyWarning: \n",
      "A value is trying to be set on a copy of a slice from a DataFrame\n",
      "\n",
      "See the caveats in the documentation: http://pandas.pydata.org/pandas-docs/stable/indexing.html#indexing-view-versus-copy\n",
      "  \n",
      "C:\\Users\\nater\\Anaconda3\\lib\\site-packages\\ipykernel_launcher.py:11: SettingWithCopyWarning: \n",
      "A value is trying to be set on a copy of a slice from a DataFrame\n",
      "\n",
      "See the caveats in the documentation: http://pandas.pydata.org/pandas-docs/stable/indexing.html#indexing-view-versus-copy\n",
      "  # This is added back by InteractiveShellApp.init_path()\n",
      "C:\\Users\\nater\\Anaconda3\\lib\\site-packages\\ipykernel_launcher.py:14: SettingWithCopyWarning: \n",
      "A value is trying to be set on a copy of a slice from a DataFrame\n",
      "\n",
      "See the caveats in the documentation: http://pandas.pydata.org/pandas-docs/stable/indexing.html#indexing-view-versus-copy\n",
      "  \n",
      "C:\\Users\\nater\\Anaconda3\\lib\\site-packages\\ipykernel_launcher.py:18: SettingWithCopyWarning: \n",
      "A value is trying to be set on a copy of a slice from a DataFrame\n",
      "\n",
      "See the caveats in the documentation: http://pandas.pydata.org/pandas-docs/stable/indexing.html#indexing-view-versus-copy\n",
      "C:\\Users\\nater\\Anaconda3\\lib\\site-packages\\ipykernel_launcher.py:22: SettingWithCopyWarning: \n",
      "A value is trying to be set on a copy of a slice from a DataFrame\n",
      "\n",
      "See the caveats in the documentation: http://pandas.pydata.org/pandas-docs/stable/indexing.html#indexing-view-versus-copy\n",
      "C:\\Users\\nater\\Anaconda3\\lib\\site-packages\\ipykernel_launcher.py:29: SettingWithCopyWarning: \n",
      "A value is trying to be set on a copy of a slice from a DataFrame\n",
      "\n",
      "See the caveats in the documentation: http://pandas.pydata.org/pandas-docs/stable/indexing.html#indexing-view-versus-copy\n"
     ]
    }
   ],
   "source": [
    "fake_users = extractFakeUsers()"
   ]
  },
  {
   "cell_type": "code",
   "execution_count": 8,
   "metadata": {},
   "outputs": [
    {
     "name": "stdout",
     "output_type": "stream",
     "text": [
      "Quantidade de usuários fake: 808557\n"
     ]
    }
   ],
   "source": [
    "print('Quantidade de usuários fake:', len(fake_users))"
   ]
  },
  {
   "cell_type": "markdown",
   "metadata": {},
   "source": [
    "#### Deduplicação por e-mail"
   ]
  },
  {
   "cell_type": "code",
   "execution_count": 9,
   "metadata": {},
   "outputs": [],
   "source": [
    "email_deduplication = deduplicateUsersByEmail(fake_users)"
   ]
  },
  {
   "cell_type": "code",
   "execution_count": 10,
   "metadata": {},
   "outputs": [
    {
     "name": "stdout",
     "output_type": "stream",
     "text": [
      "Quantidade usuários deduplicados: 1410 ( 0.0017438473725414534 % )\n",
      "Média de 2.4595744680851066 usuários por e-mail\n",
      "\n",
      "Quantidade usuários e-mail vazio: 1678\n"
     ]
    }
   ],
   "source": [
    "if len(email_deduplication) > 0:\n",
    "    countDeduplication = 0\n",
    "    sumOccurrences = 0\n",
    "\n",
    "    for user in email_deduplication:\n",
    "        if email_deduplication[user][1] > 1:\n",
    "            # mais de um usuário por e-mail\n",
    "            if user != '':\n",
    "                countDeduplication += 1\n",
    "                sumOccurrences += email_deduplication[user][1]\n",
    "    \n",
    "    print('Quantidade usuários deduplicados:', countDeduplication, '(', (countDeduplication/len(fake_users)), '% )')\n",
    "    print('Média de', (sumOccurrences/countDeduplication), 'usuários por e-mail')\n",
    "    print('\\nQuantidade usuários e-mail vazio:', email_deduplication[''][1])\n",
    "else:\n",
    "    print('Nenhum usuário deduplicado utilizando o e-mail')"
   ]
  },
  {
   "cell_type": "markdown",
   "metadata": {},
   "source": [
    "#### Deduplicação por username"
   ]
  },
  {
   "cell_type": "code",
   "execution_count": 11,
   "metadata": {},
   "outputs": [],
   "source": [
    "username_deduplication = deduplicateUsersByUsername(fake_users)"
   ]
  },
  {
   "cell_type": "code",
   "execution_count": 12,
   "metadata": {},
   "outputs": [
    {
     "name": "stdout",
     "output_type": "stream",
     "text": [
      "Quantidade usuários deduplicados: 0 ( 0.0 % )\n",
      "Média de 0 usuários por username\n",
      "\n",
      "Quantidade usuários username vazio: 0\n"
     ]
    }
   ],
   "source": [
    "if len(username_deduplication) > 0:\n",
    "    countDeduplication = 0\n",
    "    sumOccurrences = 0\n",
    "\n",
    "    for user in username_deduplication:\n",
    "        if username_deduplication[user][1] > 1:\n",
    "            # mais de um usuário por username\n",
    "            if user != '':\n",
    "                countDeduplication += 1\n",
    "                sumOccurrences += username_deduplication[user][1]\n",
    "    \n",
    "    print('Quantidade usuários deduplicados:', countDeduplication, '(', (countDeduplication/len(fake_users)), '% )')\n",
    "    print('Média de', (0 if countDeduplication == 0 else (sumOccurrences/countDeduplication)), 'usuários por username')\n",
    "    print('\\nQuantidade usuários username vazio:', 0 if '' not in username_deduplication else username_deduplication[''][1])\n",
    "else:\n",
    "    print('Nenhum usuário deduplicado utilizando o username')"
   ]
  },
  {
   "cell_type": "markdown",
   "metadata": {},
   "source": [
    "#### Deduplicação por primeiro e último nomes"
   ]
  },
  {
   "cell_type": "code",
   "execution_count": 13,
   "metadata": {},
   "outputs": [],
   "source": [
    "first_last_name_deduplication = deduplicateUsersByFirstLastName(fake_users)"
   ]
  },
  {
   "cell_type": "code",
   "execution_count": 14,
   "metadata": {},
   "outputs": [
    {
     "name": "stdout",
     "output_type": "stream",
     "text": [
      "Quantidade usuários deduplicados: 98406 ( 0.12170570534915906 % )\n",
      "Média de 3.85567953173587 usuários por primeiro e último nomes\n",
      "\n",
      "Quantidade usuários nome vazio: 33783\n"
     ]
    }
   ],
   "source": [
    "if len(first_last_name_deduplication) > 0:\n",
    "    countDeduplication = 0\n",
    "    sumOccurrences = 0\n",
    "\n",
    "    for user in first_last_name_deduplication:\n",
    "        if first_last_name_deduplication[user][1] > 1:\n",
    "            # mais de um usuário por e-mail\n",
    "            if user != '':\n",
    "                countDeduplication += 1\n",
    "                sumOccurrences += first_last_name_deduplication[user][1]\n",
    "    \n",
    "    print('Quantidade usuários deduplicados:', countDeduplication, '(', (countDeduplication/len(fake_users)), '% )')\n",
    "    print('Média de', (sumOccurrences/countDeduplication), 'usuários por primeiro e último nomes')\n",
    "    print('\\nQuantidade usuários nome vazio:', first_last_name_deduplication[''][1])\n",
    "else:\n",
    "    print('Nenhum usuário deduplicado utilizando o primeiro e último nomes')"
   ]
  }
 ],
 "metadata": {
  "kernelspec": {
   "display_name": "Python 3",
   "language": "python",
   "name": "python3"
  },
  "language_info": {
   "codemirror_mode": {
    "name": "ipython",
    "version": 3
   },
   "file_extension": ".py",
   "mimetype": "text/x-python",
   "name": "python",
   "nbconvert_exporter": "python",
   "pygments_lexer": "ipython3",
   "version": "3.7.1"
  }
 },
 "nbformat": 4,
 "nbformat_minor": 2
}
